{
 "cells": [
  {
   "cell_type": "code",
   "execution_count": 1,
   "metadata": {
    "collapsed": true
   },
   "outputs": [],
   "source": [
    "# Required Python Machine learning Packages\n",
    "import pandas as pd\n",
    "\n",
    "adult_df = pd.read_csv('adult.data',\n",
    "                       header = None, delimiter=' *, *', engine='python')\n",
    "\n",
    "adult_df.columns = ['userid','educationid','age', 'workclass', 'fnlwgt', 'education', 'education_num',\n",
    "                    'marital_status', 'occupation', 'relationship',\n",
    "                    'race', 'sex', 'capital_gain', 'capital_loss',\n",
    "                    'hours_per_week', 'native_country', 'income']\n",
    "\n",
    "caracteristicas = ['educationid','education_num','workclass']"
   ]
  },
  {
   "cell_type": "code",
   "execution_count": 2,
   "metadata": {},
   "outputs": [
    {
     "name": "stdout",
     "output_type": "stream",
     "text": [
      "--- educationid ---\n",
      "602\n",
      "--- education_num ---\n",
      "16\n",
      "--- workclass ---\n",
      "9\n",
      "fin loops \n",
      "\n"
     ]
    }
   ],
   "source": [
    "################################################\n",
    "array_registros_existentes1 = []\n",
    "print(\"--- educationid ---\")\n",
    "for registro1 in adult_df['educationid']:\n",
    "   cambio1 = 0\n",
    "   for existe1 in array_registros_existentes1:\n",
    "       if existe1 == registro1:\n",
    "           cambio1 = 1\n",
    "           \n",
    "   if cambio1 == 0:\n",
    "       array_registros_existentes1.append(registro1)\n",
    "print(len(array_registros_existentes1))\n",
    "###############################################\n",
    "array_registros_existentes2 = []\n",
    "print(\"--- education_num ---\")\n",
    "for registro2 in adult_df['education_num']:\n",
    "   cambio2 = 0\n",
    "   for existe2 in array_registros_existentes2:\n",
    "       if existe2 == registro2:\n",
    "           cambio2 = 1\n",
    "           \n",
    "   if cambio2 == 0:\n",
    "       array_registros_existentes2.append(registro2)\n",
    "\n",
    "print(len(array_registros_existentes2))\n",
    "###############################################\n",
    "array_registros_existentes3 = []\n",
    "print(\"--- workclass ---\")\n",
    "for registro3 in adult_df['workclass']:\n",
    "   cambio3 = 0\n",
    "   for existe3 in array_registros_existentes3:\n",
    "       if existe3 == registro3:\n",
    "           cambio3 = 1\n",
    "           \n",
    "   if cambio3 == 0:\n",
    "       array_registros_existentes3.append(registro3)\n",
    "\n",
    "print(len(array_registros_existentes3))\n",
    "##################################################\n",
    "\n",
    "print(\"fin loops \\n\")\n"
   ]
  },
  {
   "cell_type": "code",
   "execution_count": 3,
   "metadata": {},
   "outputs": [
    {
     "name": "stdout",
     "output_type": "stream",
     "text": [
      "TR \n",
      "\n",
      "25.965709728867623\n"
     ]
    }
   ],
   "source": [
    "print(\"TR \\n\")\n",
    "dominio_clave_foranea = len(array_registros_existentes1)+len(array_registros_existentes2)+len(array_registros_existentes3)\n",
    "                        \n",
    "num_muestras_trainning = len(adult_df['educationid'])*0.5\n",
    "         \n",
    "\n",
    "print(num_muestras_trainning/dominio_clave_foranea)"
   ]
  },
  {
   "cell_type": "code",
   "execution_count": null,
   "metadata": {
    "collapsed": true
   },
   "outputs": [],
   "source": []
  }
 ],
 "metadata": {
  "kernelspec": {
   "display_name": "Python 3",
   "language": "python",
   "name": "python3"
  },
  "language_info": {
   "codemirror_mode": {
    "name": "ipython",
    "version": 3
   },
   "file_extension": ".py",
   "mimetype": "text/x-python",
   "name": "python",
   "nbconvert_exporter": "python",
   "pygments_lexer": "ipython3",
   "version": "3.6.1"
  }
 },
 "nbformat": 4,
 "nbformat_minor": 2
}
