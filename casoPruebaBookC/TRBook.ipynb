{
 "cells": [
  {
   "cell_type": "code",
   "execution_count": 1,
   "metadata": {
    "collapsed": true
   },
   "outputs": [],
   "source": [
    "# Required Python Machine learning Packages\n",
    "import pandas as pd\n",
    "\n",
    "\n",
    "adult_df = pd.read_csv('BCall.csv',\n",
    "                       header = None, delimiter=' *, *', engine='python')\n",
    "\n",
    "adult_df.columns = ['userid','bookid',\n",
    "\t\t\t\t\t'titlewords','authorwords',\n",
    "\t\t\t\t\t'year','publisher','country','age','rating']\n",
    "\n",
    "caracteristicas = ['bookid','year','publisher','titlewords','authorwords']"
   ]
  },
  {
   "cell_type": "code",
   "execution_count": 2,
   "metadata": {},
   "outputs": [
    {
     "name": "stdout",
     "output_type": "stream",
     "text": [
      "--- bookid ---\n",
      "49972\n",
      "--- year ---\n",
      "85\n",
      "--- publisher ---\n",
      "3575\n",
      "--- titlewords ---\n",
      "5\n",
      "--- authorwords ---\n",
      "4\n",
      "fin loops \n",
      "\n"
     ]
    }
   ],
   "source": [
    "################################################\n",
    "array_registros_existentes1 = []\n",
    "print(\"--- bookid ---\")\n",
    "for registro1 in adult_df['bookid']:\n",
    "   cambio1 = 0\n",
    "   for existe1 in array_registros_existentes1:\n",
    "       if existe1 == registro1:\n",
    "           cambio1 = 1\n",
    "           \n",
    "   if cambio1 == 0:\n",
    "       array_registros_existentes1.append(registro1)\n",
    "print(len(array_registros_existentes1))\n",
    "###############################################\n",
    "array_registros_existentes2 = []\n",
    "print(\"--- year ---\")\n",
    "for registro2 in adult_df['year']:\n",
    "   cambio2 = 0\n",
    "   for existe2 in array_registros_existentes2:\n",
    "       if existe2 == registro2:\n",
    "           cambio2 = 1\n",
    "           \n",
    "   if cambio2 == 0:\n",
    "       array_registros_existentes2.append(registro2)\n",
    "\n",
    "print(len(array_registros_existentes2))\n",
    "###############################################\n",
    "array_registros_existentes3 = []\n",
    "print(\"--- publisher ---\")\n",
    "for registro3 in adult_df['publisher']:\n",
    "   cambio3 = 0\n",
    "   for existe3 in array_registros_existentes3:\n",
    "       if existe3 == registro3:\n",
    "           cambio3 = 1\n",
    "           \n",
    "   if cambio3 == 0:\n",
    "       array_registros_existentes3.append(registro3)\n",
    "\n",
    "print(len(array_registros_existentes3))\n",
    "##################################################\n",
    "array_registros_existentes4 = []\n",
    "print(\"--- titlewords ---\")\n",
    "for registro4 in adult_df['titlewords']:\n",
    "   cambio4 = 0\n",
    "   for existe4 in array_registros_existentes4:\n",
    "       if existe4 == registro4:\n",
    "           cambio4 = 1\n",
    "           \n",
    "   if cambio4 == 0:\n",
    "       array_registros_existentes4.append(registro4)\n",
    "\n",
    "print(len(array_registros_existentes4))\n",
    "##################################################\n",
    "array_registros_existentes5 = []\n",
    "print(\"--- authorwords ---\")\n",
    "for registro5 in adult_df['authorwords']:\n",
    "   cambio5 = 0\n",
    "   for existe5 in array_registros_existentes5:\n",
    "       if existe5 == registro5:\n",
    "           cambio5 = 1\n",
    "           \n",
    "   if cambio5 == 0:\n",
    "       array_registros_existentes5.append(registro5)\n",
    "\n",
    "print(len(array_registros_existentes5))\n",
    "##################################################\n",
    "\n",
    "print(\"fin loops \\n\")"
   ]
  },
  {
   "cell_type": "code",
   "execution_count": 3,
   "metadata": {},
   "outputs": [
    {
     "name": "stdout",
     "output_type": "stream",
     "text": [
      "TR \n",
      "\n",
      "2.3593892731306276\n"
     ]
    }
   ],
   "source": [
    "print(\"TR \\n\")\n",
    "dominio_clave_foranea = len(array_registros_existentes1)+len(array_registros_existentes2)+len(array_registros_existentes3)+len(array_registros_existentes4)+len(array_registros_existentes5)\n",
    "num_muestras_trainning = len(adult_df['bookid'])*0.5\n",
    "         \n",
    "\n",
    "print(num_muestras_trainning/dominio_clave_foranea) "
   ]
  },
  {
   "cell_type": "code",
   "execution_count": null,
   "metadata": {
    "collapsed": true
   },
   "outputs": [],
   "source": []
  }
 ],
 "metadata": {
  "kernelspec": {
   "display_name": "Python 3",
   "language": "python",
   "name": "python3"
  },
  "language_info": {
   "codemirror_mode": {
    "name": "ipython",
    "version": 3
   },
   "file_extension": ".py",
   "mimetype": "text/x-python",
   "name": "python",
   "nbconvert_exporter": "python",
   "pygments_lexer": "ipython3",
   "version": "3.6.1"
  }
 },
 "nbformat": 4,
 "nbformat_minor": 2
}
