{
 "cells": [
  {
   "cell_type": "code",
   "execution_count": 1,
   "metadata": {},
   "outputs": [
    {
     "name": "stderr",
     "output_type": "stream",
     "text": [
      "/home/kevin/anaconda3/lib/python3.6/site-packages/sklearn/cross_validation.py:44: DeprecationWarning: This module was deprecated in version 0.18 in favor of the model_selection module into which all the refactored classes and functions are moved. Also note that the interface of the new CV iterators are different from that of this module. This module will be removed in 0.20.\n",
      "  \"This module will be removed in 0.20.\", DeprecationWarning)\n"
     ]
    }
   ],
   "source": [
    "# Required Python Machine learning Packages\n",
    "import pandas as pd\n",
    "import numpy as np\n",
    "# For preprocessing the data\n",
    "from sklearn.preprocessing import Imputer\n",
    "from sklearn.preprocessing import StandardScaler\n",
    "from sklearn import preprocessing\n",
    "# To split the dataset into train and test datasets\n",
    "from sklearn.cross_validation import train_test_split\n",
    "# To model the Gaussian Navie Bayes classifier\n",
    "from sklearn.naive_bayes import GaussianNB\n",
    "# To calculate the accuracy score of the model\n",
    "from sklearn.metrics import accuracy_score\n",
    "\n",
    "import matplotlib.pyplot as plt\n",
    "\n",
    "adult_df = pd.read_csv('BCall.csv',\n",
    "                       header = None, delimiter=' *, *', engine='python')\n",
    "\n",
    "adult_df.columns = ['userid','bookid',\n",
    "\t\t\t\t\t'titlewords','authorwords',\n",
    "\t\t\t\t\t'year','publisher','country','age','rating']"
   ]
  },
  {
   "cell_type": "code",
   "execution_count": 2,
   "metadata": {},
   "outputs": [
    {
     "name": "stdout",
     "output_type": "stream",
     "text": [
      "0.253634639697\n"
     ]
    }
   ],
   "source": [
    "adult_df_rev = adult_df\n",
    "\n",
    "le = preprocessing.LabelEncoder()\n",
    "country_cat = le.fit_transform(adult_df.country)\n",
    "\n",
    "\n",
    "adult_df_rev['country_cat'] = country_cat\n",
    "\n",
    "#drop the old categorical columns from dataframe\n",
    "dummy_fields = ['country']\n",
    "adult_df_rev = adult_df_rev.drop(dummy_fields, axis = 1)\n",
    "\n",
    "adult_df_rev = adult_df_rev.reindex_axis(['userid','bookid',\n",
    "\t\t\t\t\t\t'titlewords','authorwords',\n",
    "\t\t\t\t\t\t'year','publisher','country_cat','age','rating'], axis= 1)\n",
    "\n",
    "num_features = ['userid','bookid',\n",
    "\t\t\t\t'titlewords','authorwords',\n",
    "\t\t\t\t'year','publisher','country_cat','age','rating']\n",
    "\n",
    "features = adult_df_rev.values[:,0:8]\n",
    "target = adult_df_rev.values[:,8]\n",
    "features_train, features_test, target_train, target_test = train_test_split(features,\n",
    "                                                                            target, test_size = 0.40, random_state = 10)\n",
    "\n",
    "clf = GaussianNB()\n",
    "clf.fit(features_train, target_train)\n",
    "target_pred = clf.predict(features_test)\n",
    "\n",
    "print(accuracy_score(target_test, target_pred, normalize=True))"
   ]
  },
  {
   "cell_type": "code",
   "execution_count": null,
   "metadata": {
    "collapsed": true
   },
   "outputs": [],
   "source": []
  }
 ],
 "metadata": {
  "kernelspec": {
   "display_name": "Python 3",
   "language": "python",
   "name": "python3"
  },
  "language_info": {
   "codemirror_mode": {
    "name": "ipython",
    "version": 3
   },
   "file_extension": ".py",
   "mimetype": "text/x-python",
   "name": "python",
   "nbconvert_exporter": "python",
   "pygments_lexer": "ipython3",
   "version": "3.6.1"
  }
 },
 "nbformat": 4,
 "nbformat_minor": 2
}
