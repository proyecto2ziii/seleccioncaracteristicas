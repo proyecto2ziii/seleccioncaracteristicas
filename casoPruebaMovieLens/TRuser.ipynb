{
 "cells": [
  {
   "cell_type": "code",
   "execution_count": 1,
   "metadata": {
    "collapsed": true
   },
   "outputs": [],
   "source": [
    "# Required Python Machine learning Packages\n",
    "import pandas as pd\n",
    "\n",
    "adult_df = pd.read_csv('MLall.csv',\n",
    "                       header = None, delimiter=' *, *', engine='python')\n",
    "\n",
    "adult_df.columns = ['movieid','userid',\n",
    "                    'gender','age','occupation','zipcode',\n",
    "                    'namewords','namepar','year','action',\n",
    "                    'adventure','animation','childrens',\n",
    "                    'comedy','crime','documentary','drama',\n",
    "                    'fantasy','filmnoir','horror','musical',\n",
    "                    'mystery','romance',\n",
    "                    'scifi','thriller','war','western','rating']\n",
    "\n",
    "caracteristicas = ['userid','age','zipcode','occupation']"
   ]
  },
  {
   "cell_type": "code",
   "execution_count": 2,
   "metadata": {},
   "outputs": [
    {
     "name": "stdout",
     "output_type": "stream",
     "text": [
      "--- userid ---\n",
      "6040\n",
      "--- age ---\n",
      "7\n",
      "--- zipcode ---\n",
      "3442\n",
      "--- occupation ---\n",
      "21\n",
      "fin loops \n",
      "\n"
     ]
    }
   ],
   "source": [
    "################################################\n",
    "array_registros_existentes1 = []\n",
    "print(\"--- userid ---\")\n",
    "for registro1 in adult_df['userid']:\n",
    "   cambio1 = 0\n",
    "   for existe1 in array_registros_existentes1:\n",
    "       if existe1 == registro1:\n",
    "           cambio1 = 1\n",
    "           \n",
    "   if cambio1 == 0:\n",
    "       array_registros_existentes1.append(registro1)\n",
    "print(len(array_registros_existentes1))\n",
    "###############################################\n",
    "array_registros_existentes2 = []\n",
    "print(\"--- age ---\")\n",
    "for registro2 in adult_df['age']:\n",
    "   cambio2 = 0\n",
    "   for existe2 in array_registros_existentes2:\n",
    "       if existe2 == registro2:\n",
    "           cambio2 = 1\n",
    "           \n",
    "   if cambio2 == 0:\n",
    "       array_registros_existentes2.append(registro2)\n",
    "\n",
    "print(len(array_registros_existentes2))\n",
    "###############################################\n",
    "array_registros_existentes3 = []\n",
    "print(\"--- zipcode ---\")\n",
    "for registro3 in adult_df['zipcode']:\n",
    "   cambio3 = 0\n",
    "   for existe3 in array_registros_existentes3:\n",
    "       if existe3 == registro3:\n",
    "           cambio3 = 1\n",
    "           \n",
    "   if cambio3 == 0:\n",
    "       array_registros_existentes3.append(registro3)\n",
    "\n",
    "print(len(array_registros_existentes3))\n",
    "##################################################\n",
    "array_registros_existentes4 = []\n",
    "print(\"--- occupation ---\")\n",
    "for registro4 in adult_df['occupation']:\n",
    "   cambio4 = 0\n",
    "   for existe4 in array_registros_existentes4:\n",
    "       if existe4 == registro4:\n",
    "           cambio4 = 1\n",
    "           \n",
    "   if cambio4 == 0:\n",
    "       array_registros_existentes4.append(registro4)\n",
    "\n",
    "print(len(array_registros_existentes4))\n",
    "##################################################\n",
    "\n",
    "print(\"fin loops \\n\")\n"
   ]
  },
  {
   "cell_type": "code",
   "execution_count": 3,
   "metadata": {},
   "outputs": [
    {
     "name": "stdout",
     "output_type": "stream",
     "text": [
      "TR \n",
      "The history saving thread hit an unexpected error (OperationalError('database or disk is full',)).History will not be written to the database.\n",
      "\n",
      "52.5761669470143\n"
     ]
    }
   ],
   "source": [
    "print(\"TR \\n\")\n",
    "dominio_clave_foranea = len(array_registros_existentes1)+len(array_registros_existentes2)+len(array_registros_existentes3)+len(array_registros_existentes4)+2\n",
    "num_muestras_trainning = len(adult_df['userid'])*0.5\n",
    "         \n",
    "\n",
    "print(num_muestras_trainning/dominio_clave_foranea)"
   ]
  },
  {
   "cell_type": "code",
   "execution_count": null,
   "metadata": {
    "collapsed": true
   },
   "outputs": [],
   "source": []
  }
 ],
 "metadata": {
  "kernelspec": {
   "display_name": "Python 3",
   "language": "python",
   "name": "python3"
  },
  "language_info": {
   "codemirror_mode": {
    "name": "ipython",
    "version": 3
   },
   "file_extension": ".py",
   "mimetype": "text/x-python",
   "name": "python",
   "nbconvert_exporter": "python",
   "pygments_lexer": "ipython3",
   "version": "3.6.1"
  }
 },
 "nbformat": 4,
 "nbformat_minor": 2
}
