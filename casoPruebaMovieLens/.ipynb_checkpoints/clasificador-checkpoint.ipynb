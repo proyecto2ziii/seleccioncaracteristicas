{
 "cells": [
  {
   "cell_type": "code",
   "execution_count": 1,
   "metadata": {},
   "outputs": [
    {
     "name": "stderr",
     "output_type": "stream",
     "text": [
      "/home/kevin/anaconda3/lib/python3.6/site-packages/sklearn/cross_validation.py:44: DeprecationWarning: This module was deprecated in version 0.18 in favor of the model_selection module into which all the refactored classes and functions are moved. Also note that the interface of the new CV iterators are different from that of this module. This module will be removed in 0.20.\n",
      "  \"This module will be removed in 0.20.\", DeprecationWarning)\n"
     ]
    }
   ],
   "source": [
    "# Required Python Machine learning Packages\n",
    "import pandas as pd\n",
    "import numpy as np\n",
    "# For preprocessing the data\n",
    "from sklearn.preprocessing import Imputer\n",
    "from sklearn.preprocessing import StandardScaler\n",
    "from sklearn import preprocessing\n",
    "# To split the dataset into train and test datasets\n",
    "from sklearn.cross_validation import train_test_split\n",
    "# To model the Gaussian Navie Bayes classifier\n",
    "from sklearn.naive_bayes import GaussianNB\n",
    "# To calculate the accuracy score of the model\n",
    "from sklearn.metrics import accuracy_score\n",
    "\n",
    "import matplotlib.pyplot as plt\n",
    "\n",
    "adult_df = pd.read_csv('MLall.csv',\n",
    "                       header = None, delimiter=' *, *', engine='python')\n",
    "\n",
    "adult_df.columns = ['movieid','userid','rating',\n",
    "                    'gender','age','occupation','zipcode',\n",
    "                    'namewords','namepar','year','action',\n",
    "                    'adventure','animation','childrens',\n",
    "                    'comedy','crime','documentary','drama',\n",
    "                    'fantasy','filmnoir','horror','musical',\n",
    "                    'mystery','romance',\n",
    "                    'scifi','thriller','war','western']\n"
   ]
  },
  {
   "cell_type": "code",
   "execution_count": 2,
   "metadata": {
    "collapsed": true
   },
   "outputs": [],
   "source": [
    "adult_df_rev = adult_df\n",
    "\n",
    "le = preprocessing.LabelEncoder()\n",
    "gender_cat = le.fit_transform(adult_df.gender)\n",
    "namepar_cat = le.fit_transform(adult_df.namepar)\n",
    "action_cat = le.fit_transform(adult_df.action)\n",
    "adventure_cat = le.fit_transform(adult_df.adventure)\n",
    "animation_cat = le.fit_transform(adult_df.animation)\n",
    "childrens_cat = le.fit_transform(adult_df.childrens)\n",
    "comedy_cat = le.fit_transform(adult_df.comedy)\n",
    "crime_cat = le.fit_transform(adult_df.crime)\n",
    "documentary_cat = le.fit_transform(adult_df.documentary)\n",
    "drama_cat = le.fit_transform(adult_df.drama)\n",
    "fantasy_cat = le.fit_transform(adult_df.fantasy)\n",
    "filmnoir_cat = le.fit_transform(adult_df.filmnoir)\n",
    "horror_cat = le.fit_transform(adult_df.horror)\n",
    "musical_cat = le.fit_transform(adult_df.musical)\n",
    "mystery_cat = le.fit_transform(adult_df.mystery)\n",
    "romance_cat = le.fit_transform(adult_df.romance)\n",
    "scifi_cat = le.fit_transform(adult_df.scifi)\n",
    "thriller_cat = le.fit_transform(adult_df.thriller)\n",
    "war_cat = le.fit_transform(adult_df.war)\n",
    "western_cat = le.fit_transform(adult_df.western)\n",
    "#initialize the encoded categorical columns\n",
    "\n",
    "adult_df_rev['gender_cat'] = gender_cat\n",
    "adult_df_rev['namepar_cat'] = namepar_cat\n",
    "adult_df_rev['action_cat'] = action_cat\n",
    "adult_df_rev['adventure_cat'] = adventure_cat\n",
    "adult_df_rev['animation_cat'] = animation_cat\n",
    "adult_df_rev['childrens_cat'] = childrens_cat\n",
    "adult_df_rev['comedy_cat'] = comedy_cat\n",
    "adult_df_rev['crime_cat'] = crime_cat\n",
    "adult_df_rev['documentary_cat'] = documentary_cat\n",
    "adult_df_rev['drama_cat'] = drama_cat\n",
    "adult_df_rev['fantasy_cat'] = fantasy_cat\n",
    "adult_df_rev['filmnoir_cat'] = filmnoir_cat\n",
    "adult_df_rev['horror_cat'] = horror_cat\n",
    "adult_df_rev['musical_cat'] = musical_cat\n",
    "adult_df_rev['mystery_cat'] = mystery_cat\n",
    "adult_df_rev['romance_cat'] = romance_cat\n",
    "adult_df_rev['scifi_cat'] = scifi_cat\n",
    "adult_df_rev['thriller_cat'] = thriller_cat\n",
    "adult_df_rev['war_cat'] = war_cat\n",
    "adult_df_rev['western_cat'] = western_cat\n",
    "\n",
    "#drop the old categorical columns from dataframe\n",
    "dummy_fields = ['gender','namepar','action','adventure','animation',\n",
    "              'childrens','comedy','crime',\n",
    "              'documentary','drama','fantasy',\n",
    "              'filmnoir','horror','musical',\n",
    "              'mystery','romance','scifi',\n",
    "              'thriller','war','western']\n",
    "adult_df_rev = adult_df_rev.drop(dummy_fields, axis = 1)\n",
    "\n",
    "#print(adult_df_rev)\n",
    "adult_df_rev = adult_df_rev.reindex_axis(['movieid','userid','rating',\n",
    "                    'gender_cat','age','occupation','zipcode',\n",
    "                    'namewords','namepar_cat','year','action_cat',\n",
    "                    'adventure_cat','animation_cat','childrens_cat',\n",
    "                    'comedy_cat','crime_cat','documentary_cat','drama_cat',\n",
    "                    'fantasy_cat','filmnoir_cat','horror_cat','musical_cat',\n",
    "                    'mystery_cat','romance_cat',\n",
    "                    'scifi_cat','thriller_cat','war_cat','western_cat'], axis= 1)"
   ]
  },
  {
   "cell_type": "code",
   "execution_count": 3,
   "metadata": {},
   "outputs": [
    {
     "name": "stdout",
     "output_type": "stream",
     "text": [
      "0.972473835547\n"
     ]
    }
   ],
   "source": [
    "num_features = ['movieid','userid','rating',\n",
    "                    'gender_cat','age','occupation','zipcode',\n",
    "                    'namewords','namepar_cat','year','action_cat',\n",
    "                    'adventure_cat','animation_cat','childrens_cat',\n",
    "                    'comedy_cat','crime_cat','documentary_cat','drama_cat',\n",
    "                    'fantasy_cat','filmnoir_cat','horror_cat','musical_cat',\n",
    "                    'mystery_cat','romance_cat',\n",
    "                    'scifi_cat','thriller_cat','war_cat','western_cat']\n",
    "\n",
    "\n",
    "features = adult_df_rev.values[:,0:27]\n",
    "target = adult_df_rev.values[:,27]\n",
    "features_train, features_test, target_train, target_test = train_test_split(features,\n",
    "                                                                            target, test_size = 0.25, random_state = 10)\n",
    "\n",
    "clf = GaussianNB()\n",
    "clf.fit(features_train, target_train)\n",
    "target_pred = clf.predict(features_test)\n",
    "\n",
    "print(accuracy_score(target_test, target_pred, normalize=True))"
   ]
  },
  {
   "cell_type": "code",
   "execution_count": null,
   "metadata": {
    "collapsed": true
   },
   "outputs": [],
   "source": []
  }
 ],
 "metadata": {
  "kernelspec": {
   "display_name": "Python 3",
   "language": "python",
   "name": "python3"
  },
  "language_info": {
   "codemirror_mode": {
    "name": "ipython",
    "version": 3
   },
   "file_extension": ".py",
   "mimetype": "text/x-python",
   "name": "python",
   "nbconvert_exporter": "python",
   "pygments_lexer": "ipython3",
   "version": "3.6.1"
  }
 },
 "nbformat": 4,
 "nbformat_minor": 2
}
